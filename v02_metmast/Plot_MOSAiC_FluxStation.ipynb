{
 "cells": [
  {
   "cell_type": "code",
   "execution_count": null,
   "metadata": {},
   "outputs": [],
   "source": [
    "# Activate the following in colab : \n",
    "!pip3 install netCDF4\n",
    "!apt install proj-bin libproj-dev libgeos-dev\n",
    "!pip install https://github.com/matplotlib/basemap/archive/master.zip\n",
    "\n",
    "import pandas as pd \n",
    "import math\n",
    "from datetime import datetime,date\n",
    "import datetime\n",
    "import numpy as np\n",
    "import xarray as xr"
   ]
  },
  {
   "cell_type": "code",
   "execution_count": null,
   "metadata": {},
   "outputs": [],
   "source": [
    "#era5 = pd.read_csv(\"https://raw.githubusercontent.com/maltemuellerm/MOSAiC/master/data/ERA5_MOSAiC_2019-2020.csv\")"
   ]
  },
  {
   "cell_type": "code",
   "execution_count": null,
   "metadata": {},
   "outputs": [],
   "source": [
    "era5_sfs30 = pd.read_csv('https://raw.githubusercontent.com/maltemuellerm/MOSAiC/master/data/v02/mosasfs30_ERA5.csv')\n",
    "# Fixing the different time axis representations:\n",
    "for i in range(np.max(np.shape(era5_sfs30))):\n",
    "    era5_sfs30['datetime'][i]= datetime.datetime.strptime(era5_sfs30.datetime[i], '%Y-%m-%d %H:%M:%S')\n",
    "\n",
    "     \n",
    "era5_sfs40 = pd.read_csv('https://raw.githubusercontent.com/maltemuellerm/MOSAiC/master/data/v02/mosasfs40_ERA5.csv')\n",
    "# Fixing the different time axis representations:\n",
    "for i in range(np.max(np.shape(era5_sfs40))):\n",
    "    era5_sfs40['datetime'][i]= datetime.datetime.strptime(era5_sfs40.datetime[i], '%Y-%m-%d %H:%M:%S')    \n",
    "    \n",
    "    \n",
    "era5_sfs50 = pd.read_csv('https://raw.githubusercontent.com/maltemuellerm/MOSAiC/master/data/v02/mosasfs50_ERA5.csv')\n",
    "# Fixing the different time axis representations:\n",
    "for i in range(np.max(np.shape(era5_sfs50))):\n",
    "    era5_sfs50['datetime'][i]= datetime.datetime.strptime(era5_sfs50.datetime[i], '%Y-%m-%d %H:%M:%S')      "
   ]
  },
  {
   "cell_type": "markdown",
   "metadata": {},
   "source": [
    "#### Load observations"
   ]
  },
  {
   "cell_type": "code",
   "execution_count": null,
   "metadata": {},
   "outputs": [],
   "source": [
    "mosasfs30met = xr.open_dataset(\"https://thredds.met.no/thredds/dodsC/metusers/maltem/MOSAiC/mosasfs30met.level2.10min.all.nc\")\n",
    "mosasfs40met = xr.open_dataset(\"https://thredds.met.no/thredds/dodsC/metusers/maltem/MOSAiC/mosasfs40met.level2.10min.all.nc\")\n",
    "mosasfs50met = xr.open_dataset(\"https://thredds.met.no/thredds/dodsC/metusers/maltem/MOSAiC/mosasfs50met.level2.10min.all.nc\")"
   ]
  },
  {
   "cell_type": "markdown",
   "metadata": {},
   "source": [
    "#### Interpolate to hourly values"
   ]
  },
  {
   "cell_type": "code",
   "execution_count": null,
   "metadata": {},
   "outputs": [],
   "source": [
    "mosasfs30met_1h = mosasfs30met.resample(time=\"1H\").interpolate(\"linear\")\n",
    "mosasfs40met_1h = mosasfs40met.resample(time=\"1H\").interpolate(\"linear\")\n",
    "mosasfs50met_1h = mosasfs50met.resample(time=\"1H\").interpolate(\"linear\")"
   ]
  },
  {
   "cell_type": "markdown",
   "metadata": {},
   "source": [
    "#### Plot"
   ]
  },
  {
   "cell_type": "code",
   "execution_count": null,
   "metadata": {},
   "outputs": [],
   "source": [
    "from matplotlib import pyplot as plt\n",
    "import matplotlib.ticker as ticker\n",
    "\n",
    "tstart=pd.Timestamp('2019-10-1')\n",
    "tend=pd.Timestamp('2020-5-31')\n",
    "\n",
    "fig = plt.figure(figsize=(14,14))\n",
    "\n",
    "ax1 = plt.subplot(511)\n",
    "ax1.plot(mosasfs30met_1h.time, mosasfs30met_1h.down_long_hemisp, '-')\n",
    "ax1.plot(era5_sfs30.datetime,era5_sfs30['strd']/3600,'-')\n",
    "ax1.set_xlim(tstart,tend)\n",
    "ax1.set_ylim(120,270)\n",
    "plt.title('Downwelling long-wave radiation')\n",
    "\n",
    "\n",
    "ax2 = plt.subplot(512)\n",
    "ax2.plot(mosasfs30met_1h.time, mosasfs30met_1h.temp, '-')\n",
    "ax2.plot(era5_sfs30.datetime,era5_sfs30['t2m']-273.15,'-')\n",
    "ax2.set_xlim(tstart,tend)\n",
    "#ax1.set_ylim(120,270)\n",
    "plt.title('Temperature')\n",
    "\n",
    "ax3 = plt.subplot(513)\n",
    "#ax3.plot(mosasfs30met_1h.time, mosasfs30met_1h.temp, '-')\n",
    "ax3.plot(era5_sfs30.datetime,era5_sfs30['hsnow'],'-')\n",
    "ax3.set_xlim(tstart,tend)\n",
    "#ax1.set_ylim(120,270)\n",
    "plt.title('TOPAZ snow depth')\n",
    "\n",
    "ax4 = plt.subplot(514)\n",
    "#ax3.plot(mosasfs30met_1h.time, mosasfs30met_1h.temp, '-')\n",
    "ax4.plot(era5_sfs30.datetime,era5_sfs30['hice'],'-')\n",
    "ax4.set_xlim(tstart,tend)\n",
    "#ax1.set_ylim(120,270)\n",
    "plt.title('TOPAZ sea-ice thickness')"
   ]
  },
  {
   "cell_type": "code",
   "execution_count": null,
   "metadata": {},
   "outputs": [],
   "source": [
    "from matplotlib import pyplot as plt\n",
    "import matplotlib.ticker as ticker\n",
    "\n",
    "fig = plt.figure(figsize=(10,10))\n",
    "\n",
    "ax1 = plt.subplot(111)\n",
    "ax1.plot(era5_sfs50['ist']-273.15, mosasfs50met_1h['skin_temp_surface'], '.')\n",
    "\n",
    "plt.title('Comparison of MODIS infrared versus MOSAiC skin')"
   ]
  },
  {
   "cell_type": "code",
   "execution_count": null,
   "metadata": {},
   "outputs": [],
   "source": []
  }
 ],
 "metadata": {
  "kernelspec": {
   "display_name": "Python 3",
   "language": "python",
   "name": "python3"
  },
  "language_info": {
   "codemirror_mode": {
    "name": "ipython",
    "version": 3
   },
   "file_extension": ".py",
   "mimetype": "text/x-python",
   "name": "python",
   "nbconvert_exporter": "python",
   "pygments_lexer": "ipython3",
   "version": "3.6.9"
  }
 },
 "nbformat": 4,
 "nbformat_minor": 2
}
